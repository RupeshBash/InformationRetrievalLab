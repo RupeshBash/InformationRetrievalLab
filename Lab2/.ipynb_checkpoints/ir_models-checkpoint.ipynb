{
 "cells": [
  {
   "cell_type": "code",
   "execution_count": null,
   "id": "56159ed9",
   "metadata": {},
   "outputs": [],
   "source": [
    "query = \"artificial intelligence data\"\n",
    "print(\"Query:\", query)\n",
    "\n",
    "print(\"\\nBoolean Retrieval:\")\n",
    "for idx, doc in boolean_search(query, documents):\n",
    "    print(f\"Doc {idx}: {doc}\")\n",
    "\n",
    "print(\"\\nTF-IDF Cosine Similarity:\")\n",
    "for idx, score in tfidf_cosine_similarity(query, documents):\n",
    "    print(f\"Doc {idx}: {documents[idx]} | Score = {score:.4f}\")\n",
    "\n",
    "print(\"\\nKL Divergence Similarity:\")\n",
    "for idx, score in kl_divergence_similarity(query, documents):\n",
    "    print(f\"Doc {idx}: {documents[idx]} | Score = {score:.4f}\")\n"
   ]
  },
  {
   "cell_type": "markdown",
   "id": "56e18df4",
   "metadata": {},
   "source": [
    "## Run Models\n",
    "Try a query and see results from all three models.\n"
   ]
  },
  {
   "cell_type": "code",
   "execution_count": null,
   "id": "cdbe2712",
   "metadata": {},
   "outputs": [],
   "source": [
    "def kl_divergence_similarity(query, docs):\n",
    "    vocab = list(set(\" \".join(docs + [query]).lower().split()))\n",
    "    \n",
    "    def text_distribution(text):\n",
    "        words = text.lower().split()\n",
    "        counts = Counter(words)\n",
    "        dist = np.array([counts[w] for w in vocab], dtype=float)\n",
    "        dist = (dist + 1) / (dist.sum() + len(vocab))  # Laplace smoothing\n",
    "        return dist\n",
    "\n",
    "    q_dist = text_distribution(query)\n",
    "    results = []\n",
    "    for idx, doc in enumerate(docs):\n",
    "        d_dist = text_distribution(doc)\n",
    "        div = entropy(q_dist, d_dist)\n",
    "        sim = 1 / (1 + div)\n",
    "        results.append((idx, sim))\n",
    "    return sorted(results, key=lambda x: -x[1])\n"
   ]
  },
  {
   "cell_type": "markdown",
   "id": "ba0db349",
   "metadata": {},
   "source": [
    "## KL Divergence Similarity\n",
    "Compute similarity based on KL divergence between the query and each document.\n"
   ]
  },
  {
   "cell_type": "code",
   "execution_count": null,
   "id": "75178199",
   "metadata": {},
   "outputs": [],
   "source": [
    "def tfidf_cosine_similarity(query, docs):\n",
    "    vectorizer = TfidfVectorizer()\n",
    "    X = vectorizer.fit_transform(docs + [query])\n",
    "    query_vec = X[-1]\n",
    "    doc_vecs = X[:-1]\n",
    "    scores = [(i, 1 - cosine(query_vec.toarray().ravel(), doc_vecs[i].toarray().ravel()))\n",
    "              for i in range(len(docs))]\n",
    "    return sorted(scores, key=lambda x: -x[1])\n"
   ]
  },
  {
   "cell_type": "markdown",
   "id": "9d81160e",
   "metadata": {},
   "source": [
    "## TF-IDF Cosine Similarity\n",
    "Compute similarity between query and documents using TF-IDF vectors and cosine similarity.\n"
   ]
  },
  {
   "cell_type": "code",
   "execution_count": null,
   "id": "9fed96c6",
   "metadata": {},
   "outputs": [],
   "source": [
    "def boolean_search(query, docs):\n",
    "    query_terms = set(query.lower().split())\n",
    "    results = []\n",
    "    for idx, doc in enumerate(docs):\n",
    "        doc_terms = set(re.findall(r\"\\w+\", doc.lower()))\n",
    "        if query_terms.issubset(doc_terms):\n",
    "            results.append((idx, doc))\n",
    "    return results\n"
   ]
  },
  {
   "cell_type": "markdown",
   "id": "3396ce0d",
   "metadata": {},
   "source": [
    "## Boolean Retrieval\n",
    "This function retrieves documents where **all query terms are present**.\n"
   ]
  },
  {
   "cell_type": "code",
   "execution_count": null,
   "id": "b581f80e",
   "metadata": {},
   "outputs": [],
   "source": [
    "import numpy as np\n",
    "import re\n",
    "from collections import Counter\n",
    "from sklearn.feature_extraction.text import TfidfVectorizer\n",
    "from scipy.spatial.distance import cosine\n",
    "from scipy.stats import entropy\n",
    "\n",
    "# Document collection for IR\n",
    "documents = [\n",
    "    \"Cats are small domesticated carnivorous mammals\",\n",
    "    \"Artificial intelligence helps computers learn from data\",\n",
    "    \"Natural language processing enables machines to understand text\",\n",
    "    \"Search engines retrieve relevant web pages for queries\",\n",
    "    \"Text analysis extracts insights from written content\",\n",
    "    \"Neural networks are the backbone of deep learning models\",\n",
    "    \"Data analytics combines math, programming, and domain knowledge\"\n",
    "]\n"
   ]
  },
  {
   "cell_type": "markdown",
   "id": "11b014a8",
   "metadata": {},
   "source": [
    "## Imports & Document Collection\n",
    "This cell imports necessary libraries and defines the document collection for information retrieval experiments.\n"
   ]
  },
  {
   "cell_type": "markdown",
   "id": "2252c41d",
   "metadata": {},
   "source": [
    "# Lab2: Basic Information Retrieval Models\n",
    "This notebook demonstrates:\n",
    "1. Boolean Retrieval\n",
    "2. TF-IDF Cosine Similarity\n",
    "3. KL Divergence Similarity\n"
   ]
  }
 ],
 "metadata": {
  "language_info": {
   "name": "python"
  }
 },
 "nbformat": 4,
 "nbformat_minor": 5
}
