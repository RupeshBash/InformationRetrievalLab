{
 "cells": [
  {
   "cell_type": "markdown",
   "id": "2e426b6c",
   "metadata": {},
   "source": [
    "# Query Processing – Sports IR\n",
    "\n",
    "In this lab, we demonstrate **query processing techniques** for Information Retrieval.  \n",
    "We will perform **query expansion**, **spelling correction**, and handle **query language variations** using cricket-related documents and vocabulary.\n"
   ]
  },
  {
   "cell_type": "code",
   "execution_count": 3,
   "id": "dcfcc449",
   "metadata": {},
   "outputs": [
    {
     "name": "stderr",
     "output_type": "stream",
     "text": [
      "[nltk_data] Downloading package wordnet to\n",
      "[nltk_data]     C:\\Users\\User\\AppData\\Roaming\\nltk_data...\n",
      "[nltk_data]   Package wordnet is already up-to-date!\n",
      "[nltk_data] Downloading package punkt to\n",
      "[nltk_data]     C:\\Users\\User\\AppData\\Roaming\\nltk_data...\n",
      "[nltk_data]   Package punkt is already up-to-date!\n"
     ]
    }
   ],
   "source": [
    "import numpy as np\n",
    "import pandas as pd\n",
    "import nltk\n",
    "from nltk.corpus import wordnet as wn\n",
    "from nltk.util import ngrams\n",
    "from collections import defaultdict, Counter\n",
    "import re\n",
    "\n",
    "# Download NLTK resources\n",
    "nltk.download('wordnet')\n",
    "nltk.download('punkt')\n",
    "\n",
    "# Cricket-themed documents\n",
    "documents = [\n",
    "    \"Sachin scored a brilliant century in the match.\",\n",
    "    \"Virat Kohli is the captain of the Indian cricket team.\",\n",
    "    \"The bowler took three wickets in the final over.\",\n",
    "    \"He hit a six to win the game.\"\n",
    "]\n",
    "\n",
    "query = \"batsman\"\n",
    "vocab = [\"batsman\", \"bowler\", \"wicket\", \"inning\", \"century\", \"six\", \"match\", \"over\"]\n",
    "corpus = \" \".join(documents)\n"
   ]
  },
  {
   "cell_type": "markdown",
   "id": "bcb8042d",
   "metadata": {},
   "source": [
    "## Query Expansion Using WordNet\n",
    "\n",
    "We expand the query by including synonyms and related terms using **WordNet**.  \n",
    "This helps the IR system retrieve more relevant cricket documents.\n"
   ]
  },
  {
   "cell_type": "code",
   "execution_count": 4,
   "id": "abf561ba",
   "metadata": {},
   "outputs": [
    {
     "name": "stdout",
     "output_type": "stream",
     "text": [
      "1. Query Expansion (WordNet):\n",
      "['batter', 'slugger', 'batsman', 'hitter']\n"
     ]
    }
   ],
   "source": [
    "def query_expansion_wordnet(query):\n",
    "    words = nltk.word_tokenize(query)\n",
    "    expanded_query = set(words)\n",
    "    \n",
    "    for word in words:\n",
    "        for syn in wn.synsets(word):\n",
    "            for lemma in syn.lemmas():\n",
    "                expanded_query.add(lemma.name().replace('_', ' '))\n",
    "    return list(expanded_query)\n",
    "\n",
    "print(\"1. Query Expansion (WordNet):\")\n",
    "print(query_expansion_wordnet(query))\n"
   ]
  },
  {
   "cell_type": "markdown",
   "id": "475c324e",
   "metadata": {},
   "source": [
    "## Spelling Correction\n",
    "\n",
    "We demonstrate **three approaches** to correct misspelled cricket terms:\n",
    "\n",
    "1. **Edit Distance** – compares word similarity.\n",
    "2. **K-grams** – matches sequences of characters.\n",
    "3. **Context-sensitive** – uses surrounding words in the corpus.\n"
   ]
  },
  {
   "cell_type": "code",
   "execution_count": 5,
   "id": "4aae2dbf",
   "metadata": {},
   "outputs": [
    {
     "name": "stdout",
     "output_type": "stream",
     "text": [
      "Edit Distance Correction of 'batman':\n",
      "batsman\n"
     ]
    }
   ],
   "source": [
    "# A. Edit Distance\n",
    "def edit_distance(w1, w2):\n",
    "    dp = [[0]*(len(w2)+1) for _ in range(len(w1)+1)]\n",
    "    for i in range(len(w1)+1):\n",
    "        for j in range(len(w2)+1):\n",
    "            if i == 0:\n",
    "                dp[i][j] = j\n",
    "            elif j == 0:\n",
    "                dp[i][j] = i\n",
    "            elif w1[i-1] == w2[j-1]:\n",
    "                dp[i][j] = dp[i-1][j-1]\n",
    "            else:\n",
    "                dp[i][j] = 1 + min(dp[i-1][j], dp[i][j-1], dp[i-1][j-1])\n",
    "    return dp[-1][-1]\n",
    "\n",
    "def correct_by_edit_distance(word, vocab):\n",
    "    min_dist = float('inf')\n",
    "    correction = word\n",
    "    for w in vocab:\n",
    "        dist = edit_distance(word, w)\n",
    "        if dist < min_dist:\n",
    "            min_dist = dist\n",
    "            correction = w\n",
    "    return correction\n",
    "\n",
    "print(\"Edit Distance Correction of 'batman':\")\n",
    "print(correct_by_edit_distance(\"batman\", vocab))\n"
   ]
  },
  {
   "cell_type": "markdown",
   "id": "3c5e2f51",
   "metadata": {},
   "source": [
    "# B. K-gram method\n",
    "def k_grams(word, k=2):\n",
    "    return {word[i:i+k] for i in range(len(word)-k+1)}\n",
    "\n",
    "def kgram_correction(word, vocab, k=2):\n",
    "    word_grams = k_grams(word, k)\n",
    "    scores = []\n",
    "    for v in vocab:\n",
    "        v_grams = k_grams(v, k)\n",
    "        overlap = len(word_grams & v_grams) / max(len(word_grams), 1)\n",
    "        scores.append((v, overlap))\n",
    "    return sorted(scores, key=lambda x: -x[1])[:3]\n",
    "\n",
    "print(\"K-gram Correction for 'wiket':\", kgram_correction(\"wiket\", vocab))\n"
   ]
  },
  {
   "cell_type": "code",
   "execution_count": 6,
   "id": "875a792b",
   "metadata": {},
   "outputs": [
    {
     "name": "stdout",
     "output_type": "stream",
     "text": [
      "Context-sensitive Correction for 'batsman': []\n"
     ]
    }
   ],
   "source": [
    "# C. Context-sensitive (based on co-occurrence)\n",
    "def context_sensitive(word, corpus, vocab):\n",
    "    tokens = corpus.split()\n",
    "    context = Counter()\n",
    "    for i, w in enumerate(tokens):\n",
    "        if w == word and i > 0:\n",
    "            context[tokens[i-1]] += 1\n",
    "        if w == word and i < len(tokens)-1:\n",
    "            context[tokens[i+1]] += 1\n",
    "    return context.most_common(3)\n",
    "\n",
    "print(\"Context-sensitive Correction for 'batsman':\", context_sensitive(\"batsman\", corpus, vocab))\n"
   ]
  },
  {
   "cell_type": "markdown",
   "id": "6a963d9a",
   "metadata": {},
   "source": [
    "## Query Language Variations\n",
    "\n",
    "We simulate different query types in cricket IR:\n",
    "\n",
    "1. **Single keyword query**\n",
    "2. **Boolean query** – e.g., \"batsman AND century\"\n",
    "3. **Natural/structured query** – e.g., \"Show me documents about bowlers taking wickets\"\n"
   ]
  },
  {
   "cell_type": "code",
   "execution_count": 7,
   "id": "b17fb9a4",
   "metadata": {},
   "outputs": [
    {
     "name": "stdout",
     "output_type": "stream",
     "text": [
      "Single Query Results: []\n",
      "Boolean Query (batsman AND century): []\n",
      "Natural Query: Show me documents about batsmen scoring centuries or bowlers taking wickets.\n",
      "Structured Query Results:\n",
      "Sachin scored a brilliant century in the match.\n",
      "The bowler took three wickets in the final over.\n"
     ]
    }
   ],
   "source": [
    "# Single query\n",
    "single_query = [d for d in documents if query in d.lower()]\n",
    "print(\"Single Query Results:\", single_query)\n",
    "\n",
    "# Boolean query: \"batsman AND century\"\n",
    "bool_query = [d for d in documents if \"batsman\" in d.lower() and \"century\" in d.lower()]\n",
    "print(\"Boolean Query (batsman AND century):\", bool_query)\n",
    "\n",
    "# Natural / Structured query simulation\n",
    "natural_query = \"Show me documents about batsmen scoring centuries or bowlers taking wickets.\"\n",
    "structured_terms = [\"batsman\", \"bowler\", \"century\", \"wicket\"]\n",
    "\n",
    "structured_results = [d for d in documents if any(term in d.lower() for term in structured_terms)]\n",
    "print(\"Natural Query:\", natural_query)\n",
    "print(\"Structured Query Results:\")\n",
    "for result in structured_results:\n",
    "    print(result)\n"
   ]
  }
 ],
 "metadata": {
  "kernelspec": {
   "display_name": "Python 3",
   "language": "python",
   "name": "python3"
  },
  "language_info": {
   "codemirror_mode": {
    "name": "ipython",
    "version": 3
   },
   "file_extension": ".py",
   "mimetype": "text/x-python",
   "name": "python",
   "nbconvert_exporter": "python",
   "pygments_lexer": "ipython3",
   "version": "3.13.3"
  }
 },
 "nbformat": 4,
 "nbformat_minor": 5
}
