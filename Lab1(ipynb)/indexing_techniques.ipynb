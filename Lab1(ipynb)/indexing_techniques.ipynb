{
 "cells": [
  {
   "cell_type": "markdown",
   "id": "13048e13",
   "metadata": {},
   "source": [
    "# Indexing Techniques in Information Retrieval\n",
    "\n",
    "In this lab, we demonstrate two important indexing techniques:\n",
    "\n",
    "1. **Inverted Index** – maps terms to the list of documents in which they appear.  \n",
    "2. **Positional Inverted Index** – maps terms to documents and positions within the documents.  \n",
    "\n",
    "We will use a set of example sentences and perform preprocessing before indexing.\n",
    "\n"
   ]
  },
  {
   "cell_type": "code",
   "execution_count": 1,
   "id": "749227d2",
   "metadata": {},
   "outputs": [
    {
     "name": "stdout",
     "output_type": "stream",
     "text": [
      "Tokenized Documents:\n",
      "Doc 0: ['the', 'player', 'hit', 'the', 'ball', 'into', 'the', 'field']\n",
      "Doc 1: ['the', 'bowler', 'delivered', 'a', 'fast', 'ball']\n",
      "Doc 2: ['the', 'player', 'ran', 'after', 'the', 'ball']\n",
      "Doc 3: ['batsmen', 'and', 'bowlers', 'play', 'cricket', 'together']\n"
     ]
    }
   ],
   "source": [
    "import re\n",
    "\n",
    "# Sample documents (slightly different from the original)\n",
    "docs = [\n",
    "    \"the player hit the ball into the field\",\n",
    "    \"the bowler delivered a fast ball\",\n",
    "    \"the player ran after the ball\",\n",
    "    \"batsmen and bowlers play cricket together\"\n",
    "]\n",
    "\n",
    "# Preprocessing: lowercase, remove punctuation, tokenize\n",
    "def preprocess(text):\n",
    "    text = text.lower()\n",
    "    text = re.sub(r'[^\\w\\s]', '', text)\n",
    "    return text.split()\n",
    "\n",
    "tokenized_docs = [preprocess(doc) for doc in docs]\n",
    "print(\"Tokenized Documents:\")\n",
    "for i, tokens in enumerate(tokenized_docs):\n",
    "    print(f\"Doc {i}: {tokens}\")\n"
   ]
  },
  {
   "cell_type": "markdown",
   "id": "013ed2b9",
   "metadata": {},
   "source": [
    "## Inverted Index\n",
    "\n",
    "An **inverted index** stores each term and the documents in which it appears.  \n",
    "This allows fast retrieval of documents containing a given term.\n"
   ]
  },
  {
   "cell_type": "code",
   "execution_count": 2,
   "id": "a6f84cff",
   "metadata": {},
   "outputs": [
    {
     "name": "stdout",
     "output_type": "stream",
     "text": [
      "Inverted Index:\n",
      "hit: [0]\n",
      "the: [0, 1, 2]\n",
      "field: [0]\n",
      "ball: [0, 1, 2]\n",
      "player: [0, 2]\n",
      "into: [0]\n",
      "a: [1]\n",
      "delivered: [1]\n",
      "bowler: [1]\n",
      "fast: [1]\n",
      "after: [2]\n",
      "ran: [2]\n",
      "together: [3]\n",
      "cricket: [3]\n",
      "play: [3]\n",
      "and: [3]\n",
      "batsmen: [3]\n",
      "bowlers: [3]\n"
     ]
    }
   ],
   "source": [
    "from collections import defaultdict\n",
    "\n",
    "# Create inverted index\n",
    "inv_index = defaultdict(list)\n",
    "\n",
    "for doc_id, tokens in enumerate(tokenized_docs):\n",
    "    for token in set(tokens):  # use set to avoid duplicates\n",
    "        inv_index[token].append(doc_id)\n",
    "\n",
    "# Convert to regular dict for readability\n",
    "inv_index = dict(inv_index)\n",
    "\n",
    "print(\"Inverted Index:\")\n",
    "for term, doc_ids in inv_index.items():\n",
    "    print(f\"{term}: {doc_ids}\")\n"
   ]
  },
  {
   "cell_type": "markdown",
   "id": "210cebd8",
   "metadata": {},
   "source": [
    "## Positional Inverted Index\n",
    "\n",
    "A **positional inverted index** stores each term, the documents it appears in,  \n",
    "and the positions of the term within each document.  \n",
    "\n",
    "This allows advanced queries like phrase search.\n"
   ]
  },
  {
   "cell_type": "code",
   "execution_count": 3,
   "id": "f1d4ec45",
   "metadata": {},
   "outputs": [
    {
     "name": "stdout",
     "output_type": "stream",
     "text": [
      "Positional Inverted Index:\n",
      "the: {0: [0, 3, 6], 1: [0], 2: [0, 4]}\n",
      "player: {0: [1], 2: [1]}\n",
      "hit: {0: [2]}\n",
      "ball: {0: [4], 1: [5], 2: [5]}\n",
      "into: {0: [5]}\n",
      "field: {0: [7]}\n",
      "bowler: {1: [1]}\n",
      "delivered: {1: [2]}\n",
      "a: {1: [3]}\n",
      "fast: {1: [4]}\n",
      "ran: {2: [2]}\n",
      "after: {2: [3]}\n",
      "batsmen: {3: [0]}\n",
      "and: {3: [1]}\n",
      "bowlers: {3: [2]}\n",
      "play: {3: [3]}\n",
      "cricket: {3: [4]}\n",
      "together: {3: [5]}\n"
     ]
    }
   ],
   "source": [
    "# Create positional inverted index\n",
    "pos_index = defaultdict(lambda: defaultdict(list))\n",
    "\n",
    "for doc_id, tokens in enumerate(tokenized_docs):\n",
    "    for pos, token in enumerate(tokens):\n",
    "        pos_index[token][doc_id].append(pos)\n",
    "\n",
    "# Convert nested defaultdict to dict\n",
    "pos_index = {term: dict(doc_pos) for term, doc_pos in pos_index.items()}\n",
    "\n",
    "print(\"Positional Inverted Index:\")\n",
    "for term, doc_pos in pos_index.items():\n",
    "    print(f\"{term}: {doc_pos}\")\n"
   ]
  }
 ],
 "metadata": {
  "kernelspec": {
   "display_name": "Python 3",
   "language": "python",
   "name": "python3"
  },
  "language_info": {
   "codemirror_mode": {
    "name": "ipython",
    "version": 3
   },
   "file_extension": ".py",
   "mimetype": "text/x-python",
   "name": "python",
   "nbconvert_exporter": "python",
   "pygments_lexer": "ipython3",
   "version": "3.13.3"
  }
 },
 "nbformat": 4,
 "nbformat_minor": 5
}
