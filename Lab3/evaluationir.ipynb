{
 "cells": [
  {
   "cell_type": "markdown",
   "id": "87099f50",
   "metadata": {},
   "source": [
    "# Evaluation of Information Retrieval Models\n",
    "\n",
    "In this lab, we evaluate three IR models: **Boolean Retrieval**, **TF-IDF (Cosine Similarity)**, and **KL Divergence**.  \n",
    "We calculate **Precision**, **Recall**, and **F1-score** for each model using a set of assumed relevant documents.  \n",
    "\n",
    "This helps us understand how accurately each model retrieves the correct documents and the trade-off between precision and recall.\n"
   ]
  },
  {
   "cell_type": "code",
   "execution_count": 1,
   "id": "2ad781fe",
   "metadata": {},
   "outputs": [
    {
     "name": "stdout",
     "output_type": "stream",
     "text": [
      "Assumed relevant documents: {1, 3, 5, 7, 9}\n",
      "Retrieved documents by each model:\n",
      "Boolean Retrieval: [2, 3, 5, 6, 8]\n",
      "TF-IDF Cosine: [1, 2, 4, 5, 7, 9]\n",
      "KL Divergence: [1, 3, 4, 6, 7, 10]\n"
     ]
    }
   ],
   "source": [
    "# Sample retrieved documents for each IR model\n",
    "retrieved_boolean = [2, 3, 5, 6, 8]\n",
    "retrieved_tfidf   = [1, 2, 4, 5, 7, 9]\n",
    "retrieved_kl      = [1, 3, 4, 6, 7, 10]\n",
    "\n",
    "# Assumed relevant documents for the query\n",
    "relevant_docs = {1, 3, 5, 7, 9}\n",
    "\n",
    "print(\"Assumed relevant documents:\", relevant_docs)\n",
    "print(\"Retrieved documents by each model:\")\n",
    "print(\"Boolean Retrieval:\", retrieved_boolean)\n",
    "print(\"TF-IDF Cosine:\", retrieved_tfidf)\n",
    "print(\"KL Divergence:\", retrieved_kl)\n"
   ]
  },
  {
   "cell_type": "markdown",
   "id": "17005e3b",
   "metadata": {},
   "source": [
    "## Evaluation Function\n",
    "\n",
    "We define a function `compute_metrics` that calculates **Precision**, **Recall**, and **F1-score**.  \n",
    "\n",
    "- **Precision** measures the proportion of retrieved documents that are relevant.  \n",
    "- **Recall** measures the proportion of relevant documents that are retrieved.  \n",
    "- **F1-score** is the harmonic mean of Precision and Recall.\n"
   ]
  },
  {
   "cell_type": "code",
   "execution_count": 5,
   "id": "234e3059",
   "metadata": {},
   "outputs": [],
   "source": [
    "def compute_metrics(retrieved, relevant):\n",
    "    retrieved_set = set(retrieved)\n",
    "    relevant_set = set(relevant)\n",
    "    \n",
    "    true_positives = len(retrieved_set & relevant_set)\n",
    "    false_positives = len(retrieved_set - relevant_set)\n",
    "    false_negatives = len(relevant_set - retrieved_set)\n",
    "    \n",
    "    precision = true_positives / (true_positives + false_positives) if (true_positives + false_positives) > 0 else 0\n",
    "    recall = true_positives / (true_positives + false_negatives) if (true_positives + false_negatives) > 0 else 0\n",
    "    f1_score = (2 * precision * recall / (precision + recall)) if (precision + recall) > 0 else 0\n",
    "    \n",
    "    return precision, recall, f1_score\n"
   ]
  },
  {
   "cell_type": "markdown",
   "id": "907773fd",
   "metadata": {},
   "source": [
    "## Evaluation of IR Models\n",
    "\n",
    "Now, we use the `compute_metrics` function to evaluate each IR model and display their Precision, Recall, and F1-score.\n"
   ]
  },
  {
   "cell_type": "code",
   "execution_count": 6,
   "id": "36751adb",
   "metadata": {},
   "outputs": [
    {
     "name": "stdout",
     "output_type": "stream",
     "text": [
      "\n",
      "Evaluation of IR Models:\n",
      "\n",
      "Boolean Retrieval -> Precision = 0.40, Recall = 0.40, F1-score = 0.40\n",
      "TF-IDF Cosine -> Precision = 0.67, Recall = 0.80, F1-score = 0.73\n",
      "KL Divergence -> Precision = 0.50, Recall = 0.60, F1-score = 0.55\n"
     ]
    }
   ],
   "source": [
    "# Dictionary of IR models and their retrieved results\n",
    "models = {\n",
    "    \"Boolean Retrieval\": retrieved_boolean,\n",
    "    \"TF-IDF Cosine\": retrieved_tfidf,\n",
    "    \"KL Divergence\": retrieved_kl\n",
    "}\n",
    "\n",
    "print(\"\\nEvaluation of IR Models:\\n\")\n",
    "precisions, recalls, f1_scores = [], [], []\n",
    "\n",
    "for model_name, retrieved_docs in models.items():\n",
    "    p, r, f1 = compute_metrics(retrieved_docs, relevant_docs)\n",
    "    precisions.append(p)\n",
    "    recalls.append(r)\n",
    "    f1_scores.append(f1)\n",
    "    print(f\"{model_name} -> Precision = {p:.2f}, Recall = {r:.2f}, F1-score = {f1:.2f}\")\n"
   ]
  },
  {
   "cell_type": "markdown",
   "id": "5caafa88",
   "metadata": {},
   "source": [
    "## Visualization of Metrics\n",
    "\n",
    "We can visualize Precision, Recall, and F1-score for each IR model using a bar chart to compare their performance easily.\n"
   ]
  },
  {
   "cell_type": "code",
   "execution_count": 7,
   "id": "a9601e3d",
   "metadata": {},
   "outputs": [
    {
     "data": {
      "image/png": "[encoded data removed]",
      "text/plain": [
       "<Figure size 800x500 with 1 Axes>"
      ]
     },
     "metadata": {},
     "output_type": "display_data"
    }
   ],
   "source": [
    "import matplotlib.pyplot as plt\n",
    "import numpy as np\n",
    "\n",
    "x = np.arange(len(models))\n",
    "width = 0.25\n",
    "\n",
    "fig, ax = plt.subplots(figsize=(8,5))\n",
    "ax.bar(x - width, precisions, width, label='Precision', color='skyblue')\n",
    "ax.bar(x, recalls, width, label='Recall', color='lightgreen')\n",
    "ax.bar(x + width, f1_scores, width, label='F1-score', color='salmon')\n",
    "\n",
    "ax.set_xticks(x)\n",
    "ax.set_xticklabels(models.keys())\n",
    "ax.set_ylim(0, 1)\n",
    "ax.set_ylabel('Scores')\n",
    "ax.set_title('IR Model Evaluation Metrics')\n",
    "ax.legend()\n",
    "plt.show()\n"
   ]
  }
 ],
 "metadata": {
  "kernelspec": {
   "display_name": "Python 3",
   "language": "python",
   "name": "python3"
  },
  "language_info": {
   "codemirror_mode": {
    "name": "ipython",
    "version": 3
   },
   "file_extension": ".py",
   "mimetype": "text/x-python",
   "name": "python",
   "nbconvert_exporter": "python",
   "pygments_lexer": "ipython3",
   "version": "3.13.3"
  }
 },
 "nbformat": 4,
 "nbformat_minor": 5
}
